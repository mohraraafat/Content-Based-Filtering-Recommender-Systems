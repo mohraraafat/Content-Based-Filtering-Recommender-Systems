{
 "cells": [
  {
   "cell_type": "code",
   "execution_count": 12,
   "id": "71afbb39",
   "metadata": {},
   "outputs": [],
   "source": [
    "import pandas as pd\n",
    "from sklearn.feature_extraction.text import TfidfVectorizer\n",
    "import pickle\n",
    "import os"
   ]
  },
  {
   "cell_type": "code",
   "execution_count": 13,
   "id": "70af343f",
   "metadata": {},
   "outputs": [],
   "source": [
    "os.makedirs(\"data\", exist_ok=True)"
   ]
  },
  {
   "cell_type": "code",
   "execution_count": null,
   "id": "1ad77323",
   "metadata": {},
   "outputs": [],
   "source": [
    "df = pd.read_csv(\"C:\\\\Users\\\\\\\\Downloads\\\\Content Based Filtering Recommender Systems\\\\data\\\\news.csv\")"
   ]
  },
  {
   "cell_type": "code",
   "execution_count": 15,
   "id": "7135c388",
   "metadata": {},
   "outputs": [],
   "source": [
    "df['title'] = df['title'].fillna(\"\")\n",
    "df['abstract'] = df['abstract'].fillna(\"\")\n",
    "df['text'] = df['title'] + \" \" + df['abstract']\n"
   ]
  },
  {
   "cell_type": "code",
   "execution_count": 16,
   "id": "05ae939b",
   "metadata": {},
   "outputs": [],
   "source": [
    "vectorizer = TfidfVectorizer(stop_words='english', max_features=5000)\n",
    "tfidf_matrix = vectorizer.fit_transform(df['text'])"
   ]
  },
  {
   "cell_type": "code",
   "execution_count": 17,
   "id": "aaee3dce",
   "metadata": {},
   "outputs": [],
   "source": [
    "with open(\"data/tfidf_matrix.pkl\", \"wb\") as f:\n",
    "    pickle.dump(tfidf_matrix, f)"
   ]
  },
  {
   "cell_type": "code",
   "execution_count": 18,
   "id": "b90d85f8",
   "metadata": {},
   "outputs": [],
   "source": [
    "df.to_csv(\"data/clean_news_with_text.csv\", index=False)"
   ]
  }
 ],
 "metadata": {
  "kernelspec": {
   "display_name": "myenv",
   "language": "python",
   "name": "python3"
  },
  "language_info": {
   "codemirror_mode": {
    "name": "ipython",
    "version": 3
   },
   "file_extension": ".py",
   "mimetype": "text/x-python",
   "name": "python",
   "nbconvert_exporter": "python",
   "pygments_lexer": "ipython3",
   "version": "3.10.13"
  }
 },
 "nbformat": 4,
 "nbformat_minor": 5
}
