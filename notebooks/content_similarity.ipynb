{
 "cells": [
  {
   "cell_type": "code",
   "execution_count": 1,
   "id": "461bec30",
   "metadata": {},
   "outputs": [],
   "source": [
    "import pandas as pd\n",
    "import pickle\n",
    "from sklearn.metrics.pairwise import cosine_similarity\n",
    "from scipy.sparse import csr_matrix\n",
    "import os"
   ]
  },
  {
   "cell_type": "code",
   "execution_count": 11,
   "id": "dfe105d5",
   "metadata": {},
   "outputs": [],
   "source": [
    "os.makedirs(\"data\", exist_ok=True)\n",
    "import os\n",
    "os.makedirs(\"results\", exist_ok=True)"
   ]
  },
  {
   "cell_type": "code",
   "execution_count": 3,
   "id": "219ab102",
   "metadata": {},
   "outputs": [],
   "source": [
    "df = pd.read_csv(\"data/clean_news_with_text.csv\")"
   ]
  },
  {
   "cell_type": "code",
   "execution_count": 4,
   "id": "9170c999",
   "metadata": {},
   "outputs": [],
   "source": [
    "with open(\"data/tfidf_matrix.pkl\", \"rb\") as f:\n",
    "    tfidf_matrix = pickle.load(f)"
   ]
  },
  {
   "cell_type": "code",
   "execution_count": 5,
   "id": "99ec2435",
   "metadata": {},
   "outputs": [],
   "source": [
    "with open(\"data/user_profile.pkl\", \"rb\") as f:\n",
    "    user_profile = pickle.load(f)"
   ]
  },
  {
   "cell_type": "code",
   "execution_count": 6,
   "id": "ae033455",
   "metadata": {},
   "outputs": [],
   "source": [
    "if not isinstance(user_profile, csr_matrix):\n",
    "    user_profile = csr_matrix(user_profile)"
   ]
  },
  {
   "cell_type": "code",
   "execution_count": 7,
   "id": "461e33bf",
   "metadata": {},
   "outputs": [],
   "source": [
    "similarities = cosine_similarity(user_profile, tfidf_matrix).flatten()"
   ]
  },
  {
   "cell_type": "code",
   "execution_count": 8,
   "id": "8e648ad5",
   "metadata": {},
   "outputs": [],
   "source": [
    "df['similarity'] = similarities"
   ]
  },
  {
   "cell_type": "code",
   "execution_count": 9,
   "id": "1d60ac73",
   "metadata": {},
   "outputs": [],
   "source": [
    "top_n = df.sort_values(by='similarity', ascending=False).head(10)"
   ]
  },
  {
   "cell_type": "code",
   "execution_count": 12,
   "id": "72752f4c",
   "metadata": {},
   "outputs": [],
   "source": [
    "top_n.to_csv(\"results/sample_recommendations.csv\", index=False)"
   ]
  }
 ],
 "metadata": {
  "kernelspec": {
   "display_name": "myenv",
   "language": "python",
   "name": "python3"
  },
  "language_info": {
   "codemirror_mode": {
    "name": "ipython",
    "version": 3
   },
   "file_extension": ".py",
   "mimetype": "text/x-python",
   "name": "python",
   "nbconvert_exporter": "python",
   "pygments_lexer": "ipython3",
   "version": "3.10.13"
  }
 },
 "nbformat": 4,
 "nbformat_minor": 5
}
