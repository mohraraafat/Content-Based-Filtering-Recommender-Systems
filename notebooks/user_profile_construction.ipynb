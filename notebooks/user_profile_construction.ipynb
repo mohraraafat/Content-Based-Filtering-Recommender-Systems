{
 "cells": [
  {
   "cell_type": "code",
   "execution_count": 1,
   "id": "dae9c223",
   "metadata": {},
   "outputs": [],
   "source": [
    "import pandas as pd\n",
    "import pickle\n",
    "import os"
   ]
  },
  {
   "cell_type": "code",
   "execution_count": 2,
   "id": "f17aa227",
   "metadata": {},
   "outputs": [],
   "source": [
    "os.makedirs(\"data\", exist_ok=True)"
   ]
  },
  {
   "cell_type": "code",
   "execution_count": 3,
   "id": "4c779f2a",
   "metadata": {},
   "outputs": [],
   "source": [
    "df = pd.read_csv(\"data/clean_news_with_text.csv\")\n",
    "with open(\"data/tfidf_matrix.pkl\", \"rb\") as f:\n",
    "    tfidf_matrix = pickle.load(f)\n"
   ]
  },
  {
   "cell_type": "code",
   "execution_count": 4,
   "id": "c7f7fc34",
   "metadata": {},
   "outputs": [],
   "source": [
    "liked_indices = [0, 5, 10] "
   ]
  },
  {
   "cell_type": "code",
   "execution_count": 5,
   "id": "be99de99",
   "metadata": {},
   "outputs": [],
   "source": [
    "user_profile = tfidf_matrix[liked_indices].mean(axis=0)"
   ]
  },
  {
   "cell_type": "code",
   "execution_count": 6,
   "id": "ef831ab3",
   "metadata": {},
   "outputs": [],
   "source": [
    "with open(\"data/user_profile.pkl\", \"wb\") as f:\n",
    "    pickle.dump(user_profile, f)"
   ]
  }
 ],
 "metadata": {
  "kernelspec": {
   "display_name": "myenv",
   "language": "python",
   "name": "python3"
  },
  "language_info": {
   "codemirror_mode": {
    "name": "ipython",
    "version": 3
   },
   "file_extension": ".py",
   "mimetype": "text/x-python",
   "name": "python",
   "nbconvert_exporter": "python",
   "pygments_lexer": "ipython3",
   "version": "3.10.13"
  }
 },
 "nbformat": 4,
 "nbformat_minor": 5
}
