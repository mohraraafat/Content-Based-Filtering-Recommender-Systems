{
 "cells": [
  {
   "cell_type": "code",
   "execution_count": 12,
   "id": "ed38442f",
   "metadata": {},
   "outputs": [],
   "source": [
    "import pandas as pd\n",
    "import os\n",
    "import matplotlib.pyplot as plt\n",
    "import seaborn as sns\n",
    "import warnings\n",
    "warnings.filterwarnings('ignore')"
   ]
  },
  {
   "cell_type": "code",
   "execution_count": 6,
   "id": "c0f6af8b",
   "metadata": {},
   "outputs": [],
   "source": [
    "os.makedirs(\"results\", exist_ok=True)"
   ]
  },
  {
   "cell_type": "code",
   "execution_count": 7,
   "id": "d91b82d3",
   "metadata": {},
   "outputs": [],
   "source": [
    "recommendations = pd.read_csv(\"results/sample_recommendations.csv\")"
   ]
  },
  {
   "cell_type": "code",
   "execution_count": 8,
   "id": "0e292453",
   "metadata": {},
   "outputs": [
    {
     "name": "stdout",
     "output_type": "stream",
     "text": [
      "1. Trying to Make a Ram 3500 as Quick as a Viper Requires Some Disassembly (Similarity: 0.577)\n",
      "2. It's been Orlando's hottest October ever so far, but cooler temperatures on the way (Similarity: 0.577)\n",
      "3. 50 Worst Habits For Belly Fat (Similarity: 0.577)\n",
      "4. Discouraged From Trying to Lose Belly Fat and Failing? Find Success With These Expert Tips (Similarity: 0.349)\n",
      "5. 10 Ways to Burn Belly Fat in 10 Minutes (Similarity: 0.347)\n",
      "6. Those Grueling Workouts May Not Help You Lose Belly Fat, but Here's What Will (Similarity: 0.341)\n",
      "7. If You Have a Slow Metabolism, Here Are 5 Doctor-Approved Ways to Burn Belly Fat (Similarity: 0.340)\n",
      "8. Rowing Can Help You Burn Belly Fat, but You'll Need to Take Things Up a Notch - Here's How (Similarity: 0.297)\n",
      "9. Cardio Isn't the Best Way to Burn Belly Fat - Here's What Trainers Want You to Do Instead (Similarity: 0.293)\n",
      "10. 3 Foods You Should Eat at Breakfast If You Want to Lose Belly Fat, According to a Dietitian (Similarity: 0.291)\n"
     ]
    }
   ],
   "source": [
    "for i, row in recommendations.iterrows():\n",
    "    print(f\"{i+1}. {row['title']} (Similarity: {row['similarity']:.3f})\")"
   ]
  }
 ],
 "metadata": {
  "kernelspec": {
   "display_name": "myenv",
   "language": "python",
   "name": "python3"
  },
  "language_info": {
   "codemirror_mode": {
    "name": "ipython",
    "version": 3
   },
   "file_extension": ".py",
   "mimetype": "text/x-python",
   "name": "python",
   "nbconvert_exporter": "python",
   "pygments_lexer": "ipython3",
   "version": "3.10.13"
  }
 },
 "nbformat": 4,
 "nbformat_minor": 5
}
